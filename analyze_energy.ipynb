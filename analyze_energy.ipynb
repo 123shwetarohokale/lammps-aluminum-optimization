{
 "cells": [
  {
   "cell_type": "code",
   "execution_count": 2,
   "id": "a311377b-4449-48cb-b70c-ee68be952bb4",
   "metadata": {},
   "outputs": [
    {
     "ename": "ModuleNotFoundError",
     "evalue": "No module named 'numpy'",
     "output_type": "error",
     "traceback": [
      "\u001b[0;31m---------------------------------------------------------------------------\u001b[0m",
      "\u001b[0;31mModuleNotFoundError\u001b[0m                       Traceback (most recent call last)",
      "Cell \u001b[0;32mIn[2], line 1\u001b[0m\n\u001b[0;32m----> 1\u001b[0m \u001b[38;5;28;01mimport\u001b[39;00m \u001b[38;5;21;01mnumpy\u001b[39;00m \u001b[38;5;28;01mas\u001b[39;00m \u001b[38;5;21;01mnp\u001b[39;00m\n\u001b[1;32m      2\u001b[0m \u001b[38;5;28;01mimport\u001b[39;00m \u001b[38;5;21;01mmatplotlib\u001b[39;00m\u001b[38;5;21;01m.\u001b[39;00m\u001b[38;5;21;01mpyplot\u001b[39;00m \u001b[38;5;28;01mas\u001b[39;00m \u001b[38;5;21;01mplt\u001b[39;00m\n\u001b[1;32m      4\u001b[0m \u001b[38;5;66;03m# Load energy data\u001b[39;00m\n\u001b[1;32m      5\u001b[0m \u001b[38;5;66;03m# Assume 'energy.txt' contains one energy value per line from LAMMPS\u001b[39;00m\n",
      "\u001b[0;31mModuleNotFoundError\u001b[0m: No module named 'numpy'"
     ]
    }
   ],
   "source": [
    "import numpy as np\n",
    "import matplotlib.pyplot as plt\n",
    "\n",
    "# Load energy data\n",
    "# Assume 'energy.txt' contains one energy value per line from LAMMPS\n",
    "data = np.loadtxt(\"energy.txt\")\n",
    "\n",
    "def compute_autocorrelation(data):\n",
    "    \"\"\"Returns the autocorrelation function of a 1D array.\"\"\"\n",
    "    n = len(data)\n",
    "    data -= np.mean(data)\n",
    "    result = np.correlate(data, data, mode='full')\n",
    "    result = result[result.size // 2:]  # keep second half\n",
    "    return result / result[0]\n",
    "\n",
    "acf = compute_autocorrelation(data)\n",
    "\n",
    "# Estimate decorrelation time: where ACF drops below 1/e\n",
    "tau = np.argmax(acf < 1 / np.e)\n",
    "\n",
    "print(f\"Estimated decorrelation time: {tau} steps\")\n",
    "\n",
    "# Plot\n",
    "plt.plot(acf)\n",
    "plt.axhline(1/np.e, color='red', linestyle='--', label='1/e')\n",
    "plt.axvline(tau, color='green', linestyle='--', label=f'Decorr. time: {tau}')\n",
    "plt.xlabel('Lag (timesteps)')\n",
    "plt.ylabel('ACF of Total Energy')\n",
    "plt.title('Energy Autocorrelation Function')\n",
    "plt.legend()\n",
    "plt.grid(True)\n",
    "plt.show()"
   ]
  }
 ],
 "metadata": {
  "kernelspec": {
   "display_name": "Python 3 (ipykernel)",
   "language": "python",
   "name": "python3"
  },
  "language_info": {
   "codemirror_mode": {
    "name": "ipython",
    "version": 3
   },
   "file_extension": ".py",
   "mimetype": "text/x-python",
   "name": "python",
   "nbconvert_exporter": "python",
   "pygments_lexer": "ipython3",
   "version": "3.10.12"
  }
 },
 "nbformat": 4,
 "nbformat_minor": 5
}
